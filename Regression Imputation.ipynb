{
 "cells": [
  {
   "cell_type": "code",
   "execution_count": 1,
   "id": "ad91ca59",
   "metadata": {},
   "outputs": [
    {
     "name": "stdout",
     "output_type": "stream",
     "text": [
      "Missing data has been imputed using regression imputation and the dataset has been saved as 'agricultural_data_imputed.csv'\n"
     ]
    }
   ],
   "source": [
    "import pandas as pd\n",
    "import numpy as np\n",
    "from sklearn.experimental import enable_iterative_imputer\n",
    "from sklearn.impute import IterativeImputer\n",
    "\n",
    "# Create a sample dataframe\n",
    "data = {\n",
    "    'SiteID': [1, 2, 3, 4, 5, 6, 7, 8, 9, 10],\n",
    "    'Altitude': [1500, 1600, 1700, 1800, 1900, 2000, 2100, 2200, 2300, 2400],\n",
    "    'Latitude': [34.05, 35.67, 36.12, 33.89, 32.45, 34.87, 35.02, 33.76, 36.78, 34.53],\n",
    "    'Temperature': [15.6, 14.8, np.nan, 13.9, 15.0, np.nan, 14.5, 13.8, 14.2, 15.1],\n",
    "    'Precipitation': [120, 110, 115, np.nan, 125, 130, np.nan, 105, 100, 95]\n",
    "}\n",
    "\n",
    "df = pd.DataFrame(data)\n",
    "\n",
    "# Save the original dataframe to a CSV file\n",
    "df.to_csv('agricultural_data.csv', index=False)\n",
    "\n",
    "# Perform regression imputation\n",
    "imputer = IterativeImputer(max_iter=10, random_state=0)\n",
    "imputed_data = imputer.fit_transform(df.drop(columns=['SiteID']))\n",
    "\n",
    "# Convert the imputed data back to a dataframe\n",
    "df_imputed = pd.DataFrame(imputed_data, columns=['Altitude', 'Latitude', 'Temperature', 'Precipitation'])\n",
    "\n",
    "# Add the SiteID column back\n",
    "df_imputed.insert(0, 'SiteID', df['SiteID'])\n",
    "\n",
    "# Save the imputed dataframe to a new CSV file\n",
    "df_imputed.to_csv('agricultural_data_imputed.csv', index=False)\n",
    "\n",
    "print(\"Missing data has been imputed using regression imputation and the dataset has been saved as 'agricultural_data_imputed.csv'\")\n"
   ]
  },
  {
   "cell_type": "code",
   "execution_count": null,
   "id": "06d18f76",
   "metadata": {},
   "outputs": [],
   "source": []
  }
 ],
 "metadata": {
  "kernelspec": {
   "display_name": "Python 3 (ipykernel)",
   "language": "python",
   "name": "python3"
  },
  "language_info": {
   "codemirror_mode": {
    "name": "ipython",
    "version": 3
   },
   "file_extension": ".py",
   "mimetype": "text/x-python",
   "name": "python",
   "nbconvert_exporter": "python",
   "pygments_lexer": "ipython3",
   "version": "3.11.5"
  }
 },
 "nbformat": 4,
 "nbformat_minor": 5
}
